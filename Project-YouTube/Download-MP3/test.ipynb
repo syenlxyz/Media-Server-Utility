{
 "cells": [
  {
   "cell_type": "code",
   "execution_count": 3,
   "metadata": {},
   "outputs": [],
   "source": [
    "from pytube import YouTube\n",
    "from pathlib import Path\n",
    "import subprocess"
   ]
  },
  {
   "cell_type": "code",
   "execution_count": 4,
   "metadata": {},
   "outputs": [],
   "source": [
    "input_path = Path.cwd() / 'input'\n",
    "output_path = Path.cwd() / 'output'"
   ]
  },
  {
   "cell_type": "code",
   "execution_count": 5,
   "metadata": {},
   "outputs": [],
   "source": [
    "url = 'https://www.youtube.com/watch?v=Vs-XA9QgG34'"
   ]
  },
  {
   "cell_type": "code",
   "execution_count": 6,
   "metadata": {},
   "outputs": [],
   "source": [
    "yt = YouTube(url)"
   ]
  },
  {
   "cell_type": "code",
   "execution_count": 7,
   "metadata": {},
   "outputs": [],
   "source": [
    "input_file = Path(\n",
    "    yt.streams\n",
    "    .filter(only_audio=True, file_extension='mp4')\n",
    "    .order_by('bitrate')\n",
    "    .desc()\n",
    "    .first()\n",
    "    .download(input_path)\n",
    ")\n",
    "output_file = output_path / f'{input_file.stem}.mp3'"
   ]
  },
  {
   "cell_type": "code",
   "execution_count": 9,
   "metadata": {},
   "outputs": [
    {
     "data": {
      "text/plain": [
       "CompletedProcess(args='ffmpeg -i \"c:\\\\Users\\\\syenl\\\\Desktop\\\\Media-Server-Utility\\\\Project-YouTube\\\\Download-MP3\\\\input\\\\KUA MUSIC【祢是我的一切／You Are My All In All】蔡佳靈.mp4\" -y \"c:\\\\Users\\\\syenl\\\\Desktop\\\\Media-Server-Utility\\\\Project-YouTube\\\\Download-MP3\\\\output\\\\KUA MUSIC【祢是我的一切／You Are My All In All】蔡佳靈.mp3\"', returncode=0)"
      ]
     },
     "execution_count": 9,
     "metadata": {},
     "output_type": "execute_result"
    }
   ],
   "source": [
    "subprocess.run(f'ffmpeg -i \"{input_file}\" -y \"{output_file}\"')"
   ]
  },
  {
   "cell_type": "code",
   "execution_count": null,
   "metadata": {},
   "outputs": [],
   "source": []
  },
  {
   "cell_type": "code",
   "execution_count": null,
   "metadata": {},
   "outputs": [],
   "source": []
  }
 ],
 "metadata": {
  "kernelspec": {
   "display_name": "base",
   "language": "python",
   "name": "python3"
  },
  "language_info": {
   "codemirror_mode": {
    "name": "ipython",
    "version": 3
   },
   "file_extension": ".py",
   "mimetype": "text/x-python",
   "name": "python",
   "nbconvert_exporter": "python",
   "pygments_lexer": "ipython3",
   "version": "3.11.7"
  }
 },
 "nbformat": 4,
 "nbformat_minor": 2
}
