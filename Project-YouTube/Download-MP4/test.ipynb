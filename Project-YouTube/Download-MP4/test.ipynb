{
 "cells": [
  {
   "cell_type": "code",
   "execution_count": 1,
   "metadata": {},
   "outputs": [],
   "source": [
    "from alive_progress import alive_it\n",
    "from pathlib import Path\n",
    "from pytube import YouTube, Playlist\n",
    "from urllib.parse import urlparse, parse_qs\n",
    "import shutil"
   ]
  },
  {
   "cell_type": "code",
   "execution_count": 2,
   "metadata": {},
   "outputs": [],
   "source": [
    "a = 'https://youtu.be/gsEs6_JIocA?si=Fe66SsuBkUEivni3'\n",
    "b = 'https://www.youtube.com/watch?v=gsEs6_JIocA'\n",
    "c = 'https://www.youtube.com/playlist?list=PLBn0C5qlKMEz6qdA7gr6vAPVnhmomdBYt'\n",
    "d = 'https://www.youtube.com/watch?v=gsEs6_JIocA&list=PLBn0C5qlKMEz6qdA7gr6vAPVnhmomdBYt&index=1'\n",
    "e = 'https://youtube.com/playlist?list=PLBn0C5qlKMEz6qdA7gr6vAPVnhmomdBYt&si=MyonDtZ_vtDHnHwk'"
   ]
  },
  {
   "cell_type": "code",
   "execution_count": 4,
   "metadata": {},
   "outputs": [],
   "source": [
    "def get_url_list():\n",
    "    url = input('Paste link here: ')\n",
    "    while True:\n",
    "        result = urlparse(url)\n",
    "        netloc = result.netloc\n",
    "        if 'youtu.be' == netloc:\n",
    "            url_list = [url]\n",
    "            return url_list\n",
    "        elif 'youtube.com' in netloc:\n",
    "            query = result.query\n",
    "            params = parse_qs(query)\n",
    "            keys = list(params.keys())\n",
    "            if 'list' in keys:\n",
    "                p = Playlist(url)\n",
    "                url_list = list(p.video_urls)\n",
    "                return url_list\n",
    "            elif 'v' in keys:\n",
    "                url_list = [url]\n",
    "                return url_list\n",
    "            else:\n",
    "                url = input('Invalid URL. Please try again: ')\n",
    "        else:\n",
    "            url = input('Invalid URL. Please try again: ')"
   ]
  },
  {
   "cell_type": "code",
   "execution_count": 44,
   "metadata": {},
   "outputs": [],
   "source": [
    "def run():\n",
    "    output_path = Path.cwd() / 'output'\n",
    "    if not output_path.is_dir():\n",
    "        output_path.mkdir()\n",
    "    \n",
    "    file_list = list(output_path.iterdir())\n",
    "    if file_list:\n",
    "        shutil.rmtree(output_path)\n",
    "        output_path.mkdir()\n",
    "    \n",
    "    options = {\n",
    "        'length': 70,\n",
    "        'spinner': 'classic',\n",
    "        'bar': 'classic2',\n",
    "        'receipt_text': True,\n",
    "        'dual_line': True\n",
    "    }\n",
    "    \n",
    "    url_list = get_url_list()\n",
    "    results = alive_it(\n",
    "        url_list,\n",
    "        len(url_list),\n",
    "        finalize=lambda bar: bar.text('Renaming TV subtitles: done'),\n",
    "        **options\n",
    "    )\n",
    "    \n",
    "    for url in results:\n",
    "        results.text(': ')\n",
    "        yt = YouTube(url)\n",
    "        yt.streams \\\n",
    "        .filter(progressive=True) \\\n",
    "        .first() \\\n",
    "        .download(output_path)\n"
   ]
  },
  {
   "cell_type": "code",
   "execution_count": null,
   "metadata": {},
   "outputs": [],
   "source": []
  }
 ],
 "metadata": {
  "kernelspec": {
   "display_name": "base",
   "language": "python",
   "name": "python3"
  },
  "language_info": {
   "codemirror_mode": {
    "name": "ipython",
    "version": 3
   },
   "file_extension": ".py",
   "mimetype": "text/x-python",
   "name": "python",
   "nbconvert_exporter": "python",
   "pygments_lexer": "ipython3",
   "version": "3.11.7"
  }
 },
 "nbformat": 4,
 "nbformat_minor": 2
}
