{
 "cells": [
  {
   "cell_type": "code",
   "execution_count": 9,
   "metadata": {},
   "outputs": [],
   "source": [
    "from pathlib import Path\n",
    "from pytube import YouTube\n",
    "import subprocess"
   ]
  },
  {
   "cell_type": "code",
   "execution_count": 10,
   "metadata": {},
   "outputs": [],
   "source": [
    "output_path = Path.cwd() / 'output'"
   ]
  },
  {
   "cell_type": "code",
   "execution_count": 11,
   "metadata": {},
   "outputs": [],
   "source": [
    "url = 'https://www.youtube.com/watch?v=Z2Z9V-4DMGw'"
   ]
  },
  {
   "cell_type": "code",
   "execution_count": 12,
   "metadata": {},
   "outputs": [],
   "source": [
    "yt = YouTube(url)"
   ]
  },
  {
   "cell_type": "code",
   "execution_count": 13,
   "metadata": {},
   "outputs": [],
   "source": [
    "video_file = Path(\n",
    "    yt.streams\n",
    "    .filter(only_video=True)\n",
    "    .order_by('resolution')\n",
    "    .desc()\n",
    "    .first()\n",
    "    .download(output_path)\n",
    ")\n",
    "video_file = video_file.rename(output_path / f'{video_file.stem} - Video Only{video_file.suffix}')"
   ]
  },
  {
   "cell_type": "code",
   "execution_count": 14,
   "metadata": {},
   "outputs": [],
   "source": [
    "audio_file = Path(\n",
    "    yt.streams\n",
    "    .filter(only_audio=True)\n",
    "    .order_by('bitrate')\n",
    "    .desc()\n",
    "    .first()\n",
    "    .download(output_path)\n",
    ")\n",
    "audio_file = audio_file.rename(output_path / f'{audio_file.stem} - Audio Only{audio_file.suffix}')"
   ]
  },
  {
   "cell_type": "code",
   "execution_count": 15,
   "metadata": {},
   "outputs": [],
   "source": [
    "file_name = video_file.stem.replace(' - Video Only', '')\n",
    "output_file = output_path / f'{file_name}.mkv'"
   ]
  },
  {
   "cell_type": "code",
   "execution_count": 19,
   "metadata": {},
   "outputs": [
    {
     "data": {
      "text/plain": [
       "CompletedProcess(args='ffmpeg -hide_banner -loglevel error -i \"c:\\\\Users\\\\syenl\\\\Desktop\\\\Media-Server-Utility\\\\Project-YouTube\\\\Download-MKV\\\\output\\\\milet×Aimer×幾田りら - おもかげ (produced by Vaundy)  THE FIRST TAKE - Video Only.webm\" -i \"c:\\\\Users\\\\syenl\\\\Desktop\\\\Media-Server-Utility\\\\Project-YouTube\\\\Download-MKV\\\\output\\\\milet×Aimer×幾田りら - おもかげ (produced by Vaundy)  THE FIRST TAKE - Audio Only.webm\" -c copy -y \"c:\\\\Users\\\\syenl\\\\Desktop\\\\Media-Server-Utility\\\\Project-YouTube\\\\Download-MKV\\\\output\\\\milet×Aimer×幾田りら - おもかげ (produced by Vaundy)  THE FIRST TAKE.mkv\"', returncode=0)"
      ]
     },
     "execution_count": 19,
     "metadata": {},
     "output_type": "execute_result"
    }
   ],
   "source": [
    "subprocess.run(f'ffmpeg -hide_banner -loglevel error -i \"{video_file}\" -i \"{audio_file}\" -c copy -y \"{output_file}\"')"
   ]
  },
  {
   "cell_type": "code",
   "execution_count": null,
   "metadata": {},
   "outputs": [],
   "source": []
  }
 ],
 "metadata": {
  "kernelspec": {
   "display_name": "base",
   "language": "python",
   "name": "python3"
  },
  "language_info": {
   "codemirror_mode": {
    "name": "ipython",
    "version": 3
   },
   "file_extension": ".py",
   "mimetype": "text/x-python",
   "name": "python",
   "nbconvert_exporter": "python",
   "pygments_lexer": "ipython3",
   "version": "3.11.7"
  }
 },
 "nbformat": 4,
 "nbformat_minor": 2
}
