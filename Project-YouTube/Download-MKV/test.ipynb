{
 "cells": [
  {
   "cell_type": "code",
   "execution_count": 1,
   "metadata": {},
   "outputs": [],
   "source": [
    "from pathlib import Path\n",
    "from pytube import YouTube\n",
    "import subprocess"
   ]
  },
  {
   "cell_type": "code",
   "execution_count": 2,
   "metadata": {},
   "outputs": [],
   "source": [
    "output_path = Path.cwd() / 'output'"
   ]
  },
  {
   "cell_type": "code",
   "execution_count": 3,
   "metadata": {},
   "outputs": [],
   "source": [
    "url = 'https://www.youtube.com/watch?v=Opp9nqiN5m0'"
   ]
  },
  {
   "cell_type": "code",
   "execution_count": 4,
   "metadata": {},
   "outputs": [],
   "source": [
    "yt = YouTube(url)"
   ]
  },
  {
   "cell_type": "code",
   "execution_count": 5,
   "metadata": {},
   "outputs": [
    {
     "data": {
      "text/plain": [
       "WindowsPath('c:/Users/syenl/Desktop/Media-Server-Utility/Project-YouTube/Download-MKV/output/Aimer - カタオモイ  THE FIRST TAKE - Video Only.webm')"
      ]
     },
     "execution_count": 5,
     "metadata": {},
     "output_type": "execute_result"
    }
   ],
   "source": [
    "video_file = Path(\n",
    "    yt.streams\n",
    "    .filter(only_video=True)\n",
    "    .order_by('resolution')\n",
    "    .desc()\n",
    "    .first()\n",
    "    .download(output_path)\n",
    ")\n",
    "video_file.rename(output_path / f'{video_file.stem} - Video Only{video_file.suffix}')"
   ]
  },
  {
   "cell_type": "code",
   "execution_count": 6,
   "metadata": {},
   "outputs": [
    {
     "data": {
      "text/plain": [
       "WindowsPath('c:/Users/syenl/Desktop/Media-Server-Utility/Project-YouTube/Download-MKV/output/Aimer - カタオモイ  THE FIRST TAKE - Audio Only.webm')"
      ]
     },
     "execution_count": 6,
     "metadata": {},
     "output_type": "execute_result"
    }
   ],
   "source": [
    "audio_file = Path(\n",
    "    yt.streams\n",
    "    .filter(only_audio=True)\n",
    "    .order_by('bitrate')\n",
    "    .desc()\n",
    "    .first()\n",
    "    .download(output_path)\n",
    ")\n",
    "audio_file.rename(output_path / f'{audio_file.stem} - Audio Only{audio_file.suffix}')"
   ]
  },
  {
   "cell_type": "code",
   "execution_count": 9,
   "metadata": {},
   "outputs": [
    {
     "data": {
      "text/plain": [
       "CompletedProcess(args='ffmpeg -hide_banner -loglevel error -i \"c:\\\\Users\\\\syenl\\\\Desktop\\\\Media-Server-Utility\\\\Project-YouTube\\\\Download-MKV\\\\output\\\\Aimer - カタオモイ  THE FIRST TAKE.webm\" -i \"c:\\\\Users\\\\syenl\\\\Desktop\\\\Media-Server-Utility\\\\Project-YouTube\\\\Download-MKV\\\\output\\\\Aimer - カタオモイ  THE FIRST TAKE.webm\" -c copy -y \"c:\\\\Users\\\\syenl\\\\Desktop\\\\Media-Server-Utility\\\\Project-YouTube\\\\Download-MKV\\\\output\\\\Aimer - カタオモイ \\\\ THE FIRST TAKE.mkv\"', returncode=4294967294)"
      ]
     },
     "execution_count": 9,
     "metadata": {},
     "output_type": "execute_result"
    }
   ],
   "source": [
    "output_file = output_path / f'{yt.title}.mkv'\n",
    "subprocess.run(f'ffmpeg -hide_banner -loglevel error -i \"{video_file}\" -i \"{audio_file}\" -c copy -y \"{output_file}\"')"
   ]
  },
  {
   "cell_type": "code",
   "execution_count": null,
   "metadata": {},
   "outputs": [],
   "source": []
  },
  {
   "cell_type": "code",
   "execution_count": null,
   "metadata": {},
   "outputs": [],
   "source": []
  }
 ],
 "metadata": {
  "kernelspec": {
   "display_name": "base",
   "language": "python",
   "name": "python3"
  },
  "language_info": {
   "codemirror_mode": {
    "name": "ipython",
    "version": 3
   },
   "file_extension": ".py",
   "mimetype": "text/x-python",
   "name": "python",
   "nbconvert_exporter": "python",
   "pygments_lexer": "ipython3",
   "version": "3.11.7"
  }
 },
 "nbformat": 4,
 "nbformat_minor": 2
}
